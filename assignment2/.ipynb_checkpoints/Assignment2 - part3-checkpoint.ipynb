{
 "cells": [
  {
   "cell_type": "markdown",
   "metadata": {},
   "source": [
    "# Part III\n",
    "\n",
    "Exercise, sentiment over some books from NLPP1e\n",
    "\n",
    "Download the LabMT wordlist. It's available as supplementary material from Temporal Patterns of Happiness and Information in a Global Social Network: Hedonometrics and Twitter (Data Set S1). ** Describe briefly how the list was generated **.\n",
    "\n",
    "Following text sources were used:\n",
    "* Twitter\n",
    "* Google Books (English)\n",
    "* music lyrics (1960 to 2007)\n",
    "* New York Times (1987 to 2007) \n",
    "\n",
    "The words in each source were reorder by decreasing frequency of occurrence. Top 5000 words from each source were merged afterwards and so generated a list of 10,222 unique words.\n",
    "\n",
    "For human evaluations of happiness the Amazon's Mechanical Turk was used to obtain ratings for individual words.\n",
    "\n",
    "***"
   ]
  },
  {
   "cell_type": "markdown",
   "metadata": {},
   "source": [
    "Based on the LabMT word list, ** write a function that calculates sentiment ** given a list of tokens (the tokens should be lower case, etc). The function should complain if there are no words with sentiment attached."
   ]
  },
  {
   "cell_type": "code",
   "execution_count": 1,
   "metadata": {
    "collapsed": false
   },
   "outputs": [],
   "source": [
    "import pandas as pd\n",
    "import operator\n",
    "from __future__ import division\n",
    "\n",
    "filePath = \"Data_Set_S1.txt\"\n",
    "data = pd.read_table(filePath)\n",
    "\n",
    "#creating the token dictionary\n",
    "\n",
    "subData = data[['word','happiness_average']]\n",
    "\n",
    "\n",
    "dictValues = subData.to_dict('list')['happiness_average']\n",
    "dictKey = subData.to_dict('list')['word']\n",
    "\n",
    "tokenDict = dict(zip(dictKey,dictValues)) #creating dictionary with word:happiness_rank"
   ]
  },
  {
   "cell_type": "code",
   "execution_count": 2,
   "metadata": {
    "collapsed": false
   },
   "outputs": [
    {
     "data": {
      "text/html": [
       "<div>\n",
       "<table border=\"1\" class=\"dataframe\">\n",
       "  <thead>\n",
       "    <tr style=\"text-align: right;\">\n",
       "      <th></th>\n",
       "      <th>word</th>\n",
       "      <th>happiness_rank</th>\n",
       "      <th>happiness_average</th>\n",
       "      <th>happiness_standard_deviation</th>\n",
       "      <th>twitter_rank</th>\n",
       "      <th>google_rank</th>\n",
       "      <th>nyt_rank</th>\n",
       "      <th>lyrics_rank</th>\n",
       "    </tr>\n",
       "  </thead>\n",
       "  <tbody>\n",
       "    <tr>\n",
       "      <th>8425</th>\n",
       "      <td>fucking</td>\n",
       "      <td>8426</td>\n",
       "      <td>4.64</td>\n",
       "      <td>2.926</td>\n",
       "      <td>448</td>\n",
       "      <td>--</td>\n",
       "      <td>--</td>\n",
       "      <td>620</td>\n",
       "    </tr>\n",
       "  </tbody>\n",
       "</table>\n",
       "</div>"
      ],
      "text/plain": [
       "         word  happiness_rank  happiness_average  \\\n",
       "8425  fucking            8426               4.64   \n",
       "\n",
       "      happiness_standard_deviation twitter_rank google_rank nyt_rank  \\\n",
       "8425                         2.926          448          --       --   \n",
       "\n",
       "     lyrics_rank  \n",
       "8425         620  "
      ]
     },
     "execution_count": 2,
     "metadata": {},
     "output_type": "execute_result"
    }
   ],
   "source": [
    "#finding the word with highest deviation (just being curious)\n",
    "values = data['happiness_standard_deviation']\n",
    "max_index, max_value = max(enumerate(values), key=operator.itemgetter(1))\n",
    "data.loc[data['happiness_rank'] == max_index + 1]"
   ]
  },
  {
   "cell_type": "code",
   "execution_count": 3,
   "metadata": {
    "collapsed": false
   },
   "outputs": [],
   "source": [
    "# tokenDict = {'a': 5, 'b':1}\n",
    "# tokenList = ['a','a','b','c']\n",
    "\n",
    "def calcSentiment(tokenList):\n",
    "    \n",
    "    tokenList = [x.lower() for x in tokenList] #lowercase all the strings\n",
    "    \n",
    "    sentiment = 0\n",
    "    counter = 0\n",
    "    \n",
    "    for token in tokenList:\n",
    "        \n",
    "        #if token is in the list then add the sentiment rank \n",
    "        if token in tokenDict:\n",
    "            sentiment += tokenDict[token]\n",
    "            counter += 1\n",
    "        #else:\n",
    "         #   print 'token \"{}\" has no happiness rank'.format(token)\n",
    "    \n",
    "#     print counter\n",
    "    if counter == 0:\n",
    "        return 0\n",
    "    else:\n",
    "        return sentiment / counter\n",
    "\n",
    "# calcSentiment(tokenList)"
   ]
  },
  {
   "cell_type": "markdown",
   "metadata": {},
   "source": [
    "Calculate a sentiment profile for the novels in NLPP1e chapter 1. The sentiment profile has sentiment on the y-axis and position in the text on the x-axis. Use a moving average to show how the sentiment changes. Create profiles for sliding windows of length 15 words, 50 words, 100 words, 500 words."
   ]
  },
  {
   "cell_type": "code",
   "execution_count": 4,
   "metadata": {
    "collapsed": false
   },
   "outputs": [
    {
     "name": "stdout",
     "output_type": "stream",
     "text": [
      "*** Introductory Examples for the NLTK Book ***\n",
      "Loading text1, ..., text9 and sent1, ..., sent9\n",
      "Type the name of the text or sentence to view it.\n",
      "Type: 'texts()' or 'sents()' to list the materials.\n",
      "text1: Moby Dick by Herman Melville 1851\n",
      "text2: Sense and Sensibility by Jane Austen 1811\n",
      "text3: The Book of Genesis\n",
      "text4: Inaugural Address Corpus\n",
      "text5: Chat Corpus\n",
      "text6: Monty Python and the Holy Grail\n",
      "text7: Wall Street Journal\n",
      "text8: Personals Corpus\n",
      "text9: The Man Who Was Thursday by G . K . Chesterton 1908\n"
     ]
    }
   ],
   "source": [
    "# import nltk\n",
    "# nltk.download()\n",
    "# in case of running it in the new enviroment, make sure you have installed two lines above\n",
    "\n",
    "from nltk.book import *"
   ]
  },
  {
   "cell_type": "code",
   "execution_count": 5,
   "metadata": {
    "collapsed": false
   },
   "outputs": [],
   "source": [
    "#prepare variables\n",
    "windowSizeList = [15,50,100,500]\n",
    "allTextList = [list(text1),list(text2),list(text3),list(text4),list(text5),\n",
    "              list(text6),list(text7),list(text8),list(text9)\n",
    "              ]\n",
    "\n"
   ]
  },
  {
   "cell_type": "code",
   "execution_count": 6,
   "metadata": {
    "collapsed": false
   },
   "outputs": [],
   "source": [
    "#calculates X and Y for a text based on windowSize\n",
    "def getXYFromWindow(windowSize,text_list):\n",
    "    \n",
    "    resultGraph = {}\n",
    "    windowMiddle = windowSize/2\n",
    "    for i in range(0,int(len(text_list) / windowSize)):\n",
    "        subTextList = [text_list[index] for index in range(i*windowSize, (i * windowSize) + windowSize)] #get the sublist of windowSize\n",
    "        subTextListSeniment = calcSentiment(subTextList) #calculate sentiment for a window\n",
    "        #pair it with the position in the text, which equals => i +windowSize + windowSize/2 \n",
    "        resultGraph[i * windowSize + windowMiddle] = subTextListSeniment\n",
    "\n",
    "    #print \"done with windowsize \" + str(windowSize)\n",
    "    \n",
    "    return resultGraph\n"
   ]
  },
  {
   "cell_type": "code",
   "execution_count": 7,
   "metadata": {
    "collapsed": false
   },
   "outputs": [
    {
     "name": "stdout",
     "output_type": "stream",
     "text": [
      "done with results\n"
     ]
    }
   ],
   "source": [
    "#the textResults will look like this {text1 : {15:{x:y}, 50:{x,y}..},text2 : {..}, ..}\n",
    "textResults = {}\n",
    "counter = 1\n",
    "for text in allTextList:\n",
    "    \n",
    "    windowResults = {}\n",
    "    \n",
    "    for windowSize in windowSizeList:\n",
    "        windowXY = getXYFromWindow(windowSize,text)\n",
    "        \n",
    "        windowResults[windowSize] = windowXY\n",
    "        \n",
    "    textResults[\"text\" + str(counter)] = windowResults\n",
    "    \n",
    "    counter += 1\n",
    "\n",
    "print \"done with results\"\n"
   ]
  },
  {
   "cell_type": "code",
   "execution_count": 8,
   "metadata": {
    "collapsed": false
   },
   "outputs": [
    {
     "name": "stdout",
     "output_type": "stream",
     "text": [
      "15\n",
      "50\n",
      "100\n",
      "500\n",
      "15\n",
      "50\n",
      "100\n",
      "500\n",
      "15\n",
      "50\n",
      "100\n",
      "500\n",
      "15\n",
      "50\n",
      "100\n",
      "500\n",
      "15\n",
      "50\n",
      "100\n",
      "500\n",
      "15\n",
      "50\n",
      "100\n",
      "500\n",
      "15\n",
      "50\n",
      "100\n",
      "500\n",
      "15\n",
      "50\n",
      "100\n",
      "500\n",
      "15\n",
      "50\n",
      "100\n",
      "500\n",
      "done with results\n"
     ]
    }
   ],
   "source": [
    "#the textResults will look like this {text1 : {15:{x:y}, 50:{x,y}..},text2 : {..}, ..}\n",
    "textResultsAlt = {}\n",
    "counterz = 0\n",
    "for text in allTextList:\n",
    "    \n",
    "    windowResults = {}\n",
    "    \n",
    "    for windowSize in windowSizeList:\n",
    "        windowXY = getXYFromWindow(windowSize,text)\n",
    "        \n",
    "        #windowResults[windowSize] = windowXY\n",
    "        \n",
    "        textResultsAlt[counterz] = windowXY\n",
    "        print windowSize\n",
    "        counterz += 1\n",
    "\n",
    "print \"done with results\"\n",
    "\n",
    "#textResultsAlt"
   ]
  },
  {
   "cell_type": "code",
   "execution_count": 9,
   "metadata": {
    "collapsed": false
   },
   "outputs": [],
   "source": [
    "#textResultsAlt[19]"
   ]
  },
  {
   "cell_type": "code",
   "execution_count": 20,
   "metadata": {
    "collapsed": false
   },
   "outputs": [],
   "source": [
    "import matplotlib.pyplot as plt\n",
    "import numpy as np\n",
    "#%matplotlib inline   \n",
    "\n",
    "fig, axes = plt.subplots(9, 4,sharey='row',sharex='row')\n",
    "\n",
    "fig.subplots_adjust(hspace=.3)\n",
    "\n",
    "fig.set_size_inches(30.5, 20.5)\n",
    "\n",
    "\n",
    "#plt.setp(axes, ylim=[0.0,4.0], xlim=[0-0.5,13 + 0.5])\n",
    "\n",
    "columnIndex = 0\n",
    "rowIndex = 0\n",
    "\n",
    "plotDataDic = textResultsAlt\n",
    "data = plotDataDic.items()\n",
    "\n",
    "tmpCounter = 0\n",
    "\n",
    "for i in range(0,9):\n",
    "    for j in range(0,4):\n",
    "        nums = data[tmpCounter][1].values() # y\n",
    "        year = data[tmpCounter][1].keys() # x\n",
    "\n",
    "\n",
    "        ax = axes[i,j]\n",
    "\n",
    "        ax.text(.2,.7,str(plotDataDic.keys()[tmpCounter]),\n",
    "             horizontalalignment='center',\n",
    "             transform=ax.transAxes)\n",
    "\n",
    "        #ax.bar(range(0,len(nums)),nums,color='grey',width=.5, align='center') \n",
    "\n",
    "        ax.scatter(year, nums, s=1, alpha=0.5)\n",
    "\n",
    "        #ax.set_ylabel(\"ratio\", size=10)\n",
    "\n",
    "        #ax.set_xticks(np.arange(len(year)))\n",
    "        ax.set_xticklabels(year, rotation = 'vertical',fontsize = 2, ha = 'center')\n",
    "\n",
    "        ax.tick_params(axis='y', labelsize = 9)\n",
    "        \n",
    "        tmpCounter += 1\n",
    "    \n",
    "\n",
    "plt.show()"
   ]
  },
  {
   "cell_type": "markdown",
   "metadata": {},
   "source": [
    "Comment on the sentiment profiles. Do they show a similar pattern? What is the effect of changing the size of the sliding window?"
   ]
  },
  {
   "cell_type": "code",
   "execution_count": 11,
   "metadata": {
    "collapsed": false
   },
   "outputs": [],
   "source": [
    "#plotDataDic.items()[35][1].keys()"
   ]
  },
  {
   "cell_type": "code",
   "execution_count": 12,
   "metadata": {
    "collapsed": false
   },
   "outputs": [],
   "source": [
    "i = 30\n",
    "data = plotDataDic.items()\n",
    "\n",
    "y = data[i][1].values() # y\n",
    "x = data[i][1].keys() # x\n",
    "\n",
    "colors = \"blue\"\n",
    "area = 2\n",
    "\n",
    "plt.scatter(x, y, s=area, c=colors, alpha=0.5)\n",
    "plt.show()"
   ]
  },
  {
   "cell_type": "code",
   "execution_count": 13,
   "metadata": {
    "collapsed": false
   },
   "outputs": [
    {
     "name": "stdout",
     "output_type": "stream",
     "text": [
      "0:0\n",
      "\n",
      "0:1\n",
      "ik = 1, rowindex =0\n",
      "0:2\n",
      "ik = 2, rowindex =0\n",
      "0:3\n",
      "ik = 3, rowindex =0\n",
      "0:0\n",
      "ik = 0, rowindex =0\n",
      "1:1\n",
      "ik = 1, rowindex =1\n",
      "1:2\n",
      "ik = 2, rowindex =1\n",
      "1:3\n",
      "ik = 3, rowindex =1\n",
      "1:0\n",
      "ik = 0, rowindex =1\n",
      "2:1\n",
      "ik = 1, rowindex =2\n",
      "2:2\n",
      "ik = 2, rowindex =2\n",
      "2:3\n",
      "ik = 3, rowindex =2\n",
      "2:0\n",
      "ik = 0, rowindex =2\n",
      "3:1\n",
      "ik = 1, rowindex =3\n",
      "3:2\n",
      "ik = 2, rowindex =3\n",
      "3:3\n",
      "ik = 3, rowindex =3\n",
      "3:0\n",
      "ik = 0, rowindex =3\n",
      "4:1\n",
      "ik = 1, rowindex =4\n",
      "4:2\n",
      "ik = 2, rowindex =4\n",
      "4:3\n",
      "ik = 3, rowindex =4\n",
      "4:0\n",
      "ik = 0, rowindex =4\n",
      "5:1\n",
      "ik = 1, rowindex =5\n",
      "5:2\n",
      "ik = 2, rowindex =5\n",
      "5:3\n",
      "ik = 3, rowindex =5\n",
      "5:0\n",
      "ik = 0, rowindex =5\n",
      "6:1\n",
      "ik = 1, rowindex =6\n",
      "6:2\n",
      "ik = 2, rowindex =6\n",
      "6:3\n",
      "ik = 3, rowindex =6\n",
      "6:0\n",
      "ik = 0, rowindex =6\n",
      "7:1\n",
      "ik = 1, rowindex =7\n",
      "7:2\n",
      "ik = 2, rowindex =7\n",
      "7:3\n",
      "ik = 3, rowindex =7\n",
      "7:0\n",
      "ik = 0, rowindex =7\n",
      "8:1\n",
      "ik = 1, rowindex =8\n",
      "8:2\n",
      "ik = 2, rowindex =8\n",
      "8:3\n",
      "ik = 3, rowindex =8\n"
     ]
    }
   ],
   "source": [
    "columnIndex = 0\n",
    "rowIndex = 0\n",
    "\n",
    "for i in range(0,36):\n",
    "    print \"{}:{}\".format(rowIndex,columnIndex)\n",
    "    \n",
    "        \n",
    "    if(i == 0):\n",
    "        print \"\"\n",
    "    else:\n",
    "        ik = i % 4\n",
    "        print \"ik = {}, rowindex ={}\".format(ik,rowIndex)\n",
    "        if(ik == 0):\n",
    "            rowIndex += 1  \n",
    "        \n",
    "    columnIndex += 1\n",
    "    columnIndex = columnIndex % 4\n",
    "\n",
    "    \n",
    "    "
   ]
  },
  {
   "cell_type": "code",
   "execution_count": null,
   "metadata": {
    "collapsed": true
   },
   "outputs": [],
   "source": []
  }
 ],
 "metadata": {
  "anaconda-cloud": {},
  "kernelspec": {
   "display_name": "Python [Root]",
   "language": "python",
   "name": "Python [Root]"
  },
  "language_info": {
   "codemirror_mode": {
    "name": "ipython",
    "version": 2
   },
   "file_extension": ".py",
   "mimetype": "text/x-python",
   "name": "python",
   "nbconvert_exporter": "python",
   "pygments_lexer": "ipython2",
   "version": "2.7.12"
  }
 },
 "nbformat": 4,
 "nbformat_minor": 0
}
