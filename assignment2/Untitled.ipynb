{
 "cells": [
  {
   "cell_type": "markdown",
   "metadata": {},
   "source": [
    "# Part III\n",
    "\n",
    "Exercise, sentiment over some books from NLPP1e\n",
    "\n",
    "Download the LabMT wordlist. It's available as supplementary material from Temporal Patterns of Happiness and Information in a Global Social Network: Hedonometrics and Twitter (Data Set S1). ** Describe briefly how the list was generated **.\n",
    "\n",
    "Following text sources were used:\n",
    "* Twitter\n",
    "* Google Books (English)\n",
    "* music lyrics (1960 to 2007)\n",
    "* New York Times (1987 to 2007) \n",
    "\n",
    "The words in each source were reorder by decreasing frequency of occurrence. Top 5000 words from each source were merged afterwards and so generated a list of 10,222 unique words.\n",
    "\n",
    "For human evaluations of happiness the Amazon's Mechanical Turk was used to obtain ratings for individual words.\n",
    "\n",
    "***"
   ]
  },
  {
   "cell_type": "markdown",
   "metadata": {},
   "source": [
    "Based on the LabMT word list, ** write a function that calculates sentiment ** given a list of tokens (the tokens should be lower case, etc). The function should complain if there are no words with sentiment attached."
   ]
  },
  {
   "cell_type": "code",
   "execution_count": 99,
   "metadata": {
    "collapsed": false
   },
   "outputs": [
    {
     "data": {
      "text/plain": [
       "8.0199999999999996"
      ]
     },
     "execution_count": 99,
     "metadata": {},
     "output_type": "execute_result"
    }
   ],
   "source": [
    "import pandas as pd\n",
    "import operator\n",
    "\n",
    "filePath = \"Data_Set_S1.txt\"\n",
    "data = pd.read_table(filePath)\n",
    "\n",
    "#creating the token dictionary\n",
    "\n",
    "subData = data[['word','happiness_average']]\n",
    "\n",
    "\n",
    "dictValues = subData.to_dict('list')['happiness_average']\n",
    "dictKey = subData.to_dict('list')['word']\n",
    "\n",
    "tokenDict = dict(zip(dictKey,dictValues))\n",
    "\n",
    "tokenDict['celebration']"
   ]
  },
  {
   "cell_type": "code",
   "execution_count": 68,
   "metadata": {
    "collapsed": false
   },
   "outputs": [
    {
     "data": {
      "text/html": [
       "<div>\n",
       "<table border=\"1\" class=\"dataframe\">\n",
       "  <thead>\n",
       "    <tr style=\"text-align: right;\">\n",
       "      <th></th>\n",
       "      <th>word</th>\n",
       "      <th>happiness_rank</th>\n",
       "      <th>happiness_average</th>\n",
       "      <th>happiness_standard_deviation</th>\n",
       "      <th>twitter_rank</th>\n",
       "      <th>google_rank</th>\n",
       "      <th>nyt_rank</th>\n",
       "      <th>lyrics_rank</th>\n",
       "    </tr>\n",
       "  </thead>\n",
       "  <tbody>\n",
       "    <tr>\n",
       "      <th>8425</th>\n",
       "      <td>fucking</td>\n",
       "      <td>8426</td>\n",
       "      <td>4.64</td>\n",
       "      <td>2.926</td>\n",
       "      <td>448</td>\n",
       "      <td>--</td>\n",
       "      <td>--</td>\n",
       "      <td>620</td>\n",
       "    </tr>\n",
       "  </tbody>\n",
       "</table>\n",
       "</div>"
      ],
      "text/plain": [
       "         word  happiness_rank  happiness_average  \\\n",
       "8425  fucking            8426               4.64   \n",
       "\n",
       "      happiness_standard_deviation twitter_rank google_rank nyt_rank  \\\n",
       "8425                         2.926          448          --       --   \n",
       "\n",
       "     lyrics_rank  \n",
       "8425         620  "
      ]
     },
     "execution_count": 68,
     "metadata": {},
     "output_type": "execute_result"
    }
   ],
   "source": [
    "#finding the word with highest deviation (just being curious)\n",
    "values = data['happiness_standard_deviation']\n",
    "max_index, max_value = max(enumerate(values), key=operator.itemgetter(1))\n",
    "data.loc[data['happiness_rank'] == max_index + 1]"
   ]
  },
  {
   "cell_type": "code",
   "execution_count": 98,
   "metadata": {
    "collapsed": false
   },
   "outputs": [
    {
     "name": "stdout",
     "output_type": "stream",
     "text": [
      "token \"c\" has no happiness rank\n"
     ]
    },
    {
     "data": {
      "text/plain": [
       "3.6666666666666665"
      ]
     },
     "execution_count": 98,
     "metadata": {},
     "output_type": "execute_result"
    }
   ],
   "source": [
    "tokenDict = {'a': 5, 'b':1}\n",
    "tokenList = ['a','a','b','c']\n",
    "\n",
    "def calcSentiment(tokenList):\n",
    "    \n",
    "    sentiment = 0\n",
    "    counter = 0\n",
    "    for token in tokenList:\n",
    "        \n",
    "        if token in tokenDict:\n",
    "            sentiment += tokenDict[token]\n",
    "            counter += 1\n",
    "        else:\n",
    "            print 'token \"{}\" has no happiness rank'.format(token)\n",
    "    \n",
    "    return sentiment / float(counter)\n",
    "\n",
    "calcSentiment(tokenList)\n",
    "\n"
   ]
  },
  {
   "cell_type": "markdown",
   "metadata": {},
   "source": [
    "Calculate a sentiment profile for the novels in NLPP1e chapter 1. The sentiment profile has sentiment on the y-axis and position in the text on the x-axis. Use a moving average to show how the sentiment changes. Create profiles for sliding windows of length 15 words, 50 words, 100 words, 500 words."
   ]
  },
  {
   "cell_type": "markdown",
   "metadata": {},
   "source": [
    "Comment on the sentiment profiles. Do they show a similar pattern? What is the effect of changing the size of the sliding window?"
   ]
  },
  {
   "cell_type": "code",
   "execution_count": null,
   "metadata": {
    "collapsed": false
   },
   "outputs": [],
   "source": []
  },
  {
   "cell_type": "code",
   "execution_count": null,
   "metadata": {
    "collapsed": true
   },
   "outputs": [],
   "source": []
  }
 ],
 "metadata": {
  "anaconda-cloud": {},
  "kernelspec": {
   "display_name": "Python [Root]",
   "language": "python",
   "name": "Python [Root]"
  },
  "language_info": {
   "codemirror_mode": {
    "name": "ipython",
    "version": 2
   },
   "file_extension": ".py",
   "mimetype": "text/x-python",
   "name": "python",
   "nbconvert_exporter": "python",
   "pygments_lexer": "ipython2",
   "version": "2.7.12"
  }
 },
 "nbformat": 4,
 "nbformat_minor": 0
}
