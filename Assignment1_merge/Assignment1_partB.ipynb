{
 "cells": [
  {
   "cell_type": "markdown",
   "metadata": {},
   "source": [
    "# Part One: Network Models\n",
    "\n",
    "## Watts-Strogatz Networks\n",
    "\n",
    "* Use nx.watts_strogatz_graph to generate 3 graphs with 500 nodes each, average degree = 4, and rewiring probablity p = 0, 0.1, and 1. Calculate the average shortest path length < d > for each one. Describe what happens to the network when p = 1."
   ]
  },
  {
   "cell_type": "code",
   "execution_count": 9,
   "metadata": {
    "collapsed": true
   },
   "outputs": [],
   "source": [
    "%matplotlib inline\n",
    "\n",
    "import matplotlib.pyplot as plt\n",
    "import numpy as np\n",
    "import networkx as nx\n",
    "import random as rnd\n",
    "import collections"
   ]
  },
  {
   "cell_type": "code",
   "execution_count": 10,
   "metadata": {
    "collapsed": false
   },
   "outputs": [
    {
     "name": "stdout",
     "output_type": "stream",
     "text": [
      "p = 0, 62.875751503\n",
      "p = 0.1, 7.72658116232\n",
      "p = 1, 4.76323847695\n"
     ]
    }
   ],
   "source": [
    "#set up vars\n",
    "N = 500\n",
    "k = 4 #average degree\n",
    "p = [0, 0.1, 1]\n",
    "\n",
    "#generating graphs\n",
    "generated_graphs = []\n",
    "for prob in p:\n",
    "    generated_graphs.append(nx.watts_strogatz_graph(N,k,prob))\n",
    "\n",
    "#calculate <d> for each graph\n",
    "for i,item in enumerate(generated_graphs):\n",
    "    print \"p = \"+ str(p[i]) + \", \" + str(nx.average_shortest_path_length(item))"
   ]
  },
  {
   "cell_type": "markdown",
   "metadata": {},
   "source": [
    "Describe what happens to the network when p = 1.\n",
    "* When p = 1 the graph becomes very dense.\n",
    "\n",
    "Let's understand the behavior of the WS model as we increase p in more detail. Generate 50 networks with N = 500, < k > = 4, for each of p = {0, 0.01, 0.03, 0.05, 0.1, 0.2}. Calculate the average of < d > as well as the standard deviation over the 50 networks, to create a plot that shows how the path length decreases very quickly with only a little fraction of re-wiring. Use the standard deviation to add errorbars to the plot. "
   ]
  },
  {
   "cell_type": "code",
   "execution_count": 11,
   "metadata": {
    "collapsed": true
   },
   "outputs": [],
   "source": [
    "N = 500\n",
    "k = 4\n",
    "p = [0, 0.01, 0.03, 0.05, 0.1, 0.2]\n",
    "\n",
    "#generating graphs\n",
    "generated_graphs = {}\n",
    "for prob in p:\n",
    "    generated_subgraphs = [] #to store 50 generated graphs with p = prob\n",
    "    for j in range(0,50):\n",
    "        generated_subgraphs.append(nx.watts_strogatz_graph(N,k,prob))\n",
    "    generated_graphs[prob] = generated_subgraphs\n",
    "    \n",
    "#calculate <d> for each graph\n",
    "calculated_d = {}\n",
    "for prob in p:\n",
    "    graphs = generated_graphs[prob] #get graphs of particular prob (p)\n",
    "    calculated_d_ofgraphs = [] #to store calculated <d>\n",
    "    for i, item in enumerate(graphs):\n",
    "        calculated_d_ofgraphs.append(nx.average_shortest_path_length(item))\n",
    "    calculated_d[prob] = calculated_d_ofgraphs"
   ]
  },
  {
   "cell_type": "code",
   "execution_count": 12,
   "metadata": {
    "collapsed": true
   },
   "outputs": [],
   "source": [
    "#calculating standard deviation and mean\n",
    "res_x = []\n",
    "res_y = []\n",
    "res_dev = []\n",
    "for prob in p:\n",
    "    res_y.append(np.mean(calculated_d[prob]))\n",
    "    res_x.append(prob)\n",
    "    res_dev.append(np.std(calculated_d[prob]))"
   ]
  },
  {
   "cell_type": "markdown",
   "metadata": {},
   "source": [
    "Now we have obtained all data for plotting\n",
    "* probability (x axis)\n",
    "* mean (y axis)\n",
    "* deviation"
   ]
  },
  {
   "cell_type": "code",
   "execution_count": 13,
   "metadata": {
    "collapsed": false
   },
   "outputs": [
    {
     "data": {
      "image/png": "[encoded data removed]",
      "text/plain": [
       "<matplotlib.figure.Figure at 0x10fd9860>"
      ]
     },
     "metadata": {},
     "output_type": "display_data"
    }
   ],
   "source": [
    "x = res_x #probability\n",
    "y = res_y #mean\n",
    "yerr = res_dev #deviation\n",
    "\n",
    "plt.figure()\n",
    "lines = plt.errorbar(x, y, xerr=0, yerr = yerr)\n",
    "plt.ylabel('ave(<d>)')\n",
    "plt.xlabel('p')\n",
    "plt.margins(0.05, 0.1) #inner margin \n",
    "plt.setp(lines, 'color', 'black', 'linewidth', 1.0)\n",
    "plt.scatter(x,y,s=20) #size of dots\n",
    "plt.show()"
   ]
  },
  {
   "cell_type": "markdown",
   "metadata": {},
   "source": [
    "## Part Two: The Wikipedia Philosopher's network\n",
    "\n",
    "The following code was used to extract the names of all philosophers from the wiki-markup texts of the list documents saved in `./philosophers/list_documents/`. \n",
    "\n",
    "The names are extracted from the pages using a regular expression. The regular expression matches all wiki-links preceded by an asterisk (\\*) and optional whitespace which is the syntax for a list item. This can be done as all names are kept in such lists and allows to sort out most of the irrelevant links.\n",
    "\n",
    "The philosopher names are saved in separate lists, one for each field in the variable `matches` and in a big set containing all unique names called `names`. Furthermore it constructs an array of `{ \"name\": String, \"fields\": List[String] }` objects and saves them to a file in JSON format for further processing."
   ]
  },
  {
   "cell_type": "code",
   "execution_count": 14,
   "metadata": {
    "collapsed": false
   },
   "outputs": [],
   "source": [
    "import io\n",
    "import re\n",
    "import json\n",
    "\n",
    "files = {\"aesth\" : \"./philosophers/list_documents/aestheticians.txt\",\n",
    "         \"epist\" : \"./philosophers/list_documents/epistemologists.txt\",\n",
    "         \"ethic\" : \"./philosophers/list_documents/ethicists.txt\",\n",
    "         \"logic\" : \"./philosophers/list_documents/logicians.txt\",\n",
    "         \"metap\" : \"./philosophers/list_documents/metaphysicians.txt\",\n",
    "         \"socpo\" : \"./philosophers/list_documents/social_and_political_philosophers.txt\"}\n",
    "\n",
    "def filterMatch(match):\n",
    "    \"\"\" Filter function to filter out entries that are no philosopher names \"\"\"\n",
    "    return not match.lower().startswith(\"list of\") and not match.lower().startswith(\"list_of\")\n",
    "\n",
    "def extractIdName(match):\n",
    "    \"\"\" Extract the first part of the string if it contains a '|' \"\"\"\n",
    "    idx = match.find(\"|\")\n",
    "    if idx > 0:\n",
    "        return match[:idx].replace(\"_\",\" \")\n",
    "    else:\n",
    "        return match.replace(\"_\",\" \")\n",
    "\n",
    "# extract all matches in a dictionary (one list per file)\n",
    "matches = {}\n",
    "for cat,path in files.iteritems():\n",
    "    f = io.open(path,\"r\",encoding=\"utf-8\")\n",
    "    matchlist = re.findall(r\"\\*\\s?\\[\\[((?:[^|\\]]*)\\|?[^\\]]+)\\]\\]\",f.read())\n",
    "    matches[cat] = [extractIdName(s) for s in filter(filterMatch,matchlist)]\n",
    "    f.close()\n",
    "\n",
    "# construct big set of unique names\n",
    "all_names = set()\n",
    "for names in matches.items():\n",
    "    all_names = all_names.union(names[1])\n",
    "    \n",
    "# fields for each philosopher\n",
    "philo_fields = []\n",
    "for name in all_names:\n",
    "    data = {\"name\": name, \"fields\": []}\n",
    "    for cat in matches.keys():\n",
    "        if name in matches[cat]: \n",
    "            data[\"fields\"].append(cat)\n",
    "    philo_fields.append(data)\n",
    "    \n",
    "# save list of philosophers as a file\n",
    "with io.open(\"./philosophers/names.json\",\"w\",encoding=\"utf-8\") as names_file:\n",
    "    names_file.write(unicode(json.dumps(philo_fields, ensure_ascii=False)))"
   ]
  },
  {
   "cell_type": "markdown",
   "metadata": {},
   "source": [
    "### Basic stats\n",
    "\n",
    "** How many philosophers in each list? How many total? Which is the largest branch of philosophy? **"
   ]
  },
  {
   "cell_type": "code",
   "execution_count": 15,
   "metadata": {
    "collapsed": false
   },
   "outputs": [
    {
     "name": "stdout",
     "output_type": "stream",
     "text": [
      "ethic: 272 philosophers\n",
      "aesth: 124 philosophers\n",
      "metap: 96 philosophers\n",
      "socpo: 293 philosophers\n",
      "logic: 271 philosophers\n",
      "epist: 98 philosophers\n",
      "\n",
      "Total 1011 unique philosophers\n"
     ]
    }
   ],
   "source": [
    "for cat,philos in matches.iteritems():\n",
    "    print \"%s: %d philosophers\" % (cat,len(philos))\n",
    "print \"\\nTotal %d unique philosophers\" % len(all_names)"
   ]
  },
  {
   "cell_type": "markdown",
   "metadata": {},
   "source": [
    "From the previous results we can extract the amount of philosophers in each list and the total amount. The branch \"social and political philosophy\" is the biggest judging by the number of philosophers in the corresponding list.\n",
    "\n",
    "**Let's investigate philosophers active in multiple sub-fields in more detail.**\n",
    "* **Create a list of every philosopher that occurs in more than one list.**\n",
    "* **Which philosopher is in most lists & and how many?**\n",
    "* **Use Python to sort the list according to how many lists each philosopher belongs to.**\n",
    "* **Print the top 5 guys and their list counts. Have you heard of any of them?**"
   ]
  },
  {
   "cell_type": "code",
   "execution_count": 16,
   "metadata": {
    "collapsed": false
   },
   "outputs": [
    {
     "name": "stdout",
     "output_type": "stream",
     "text": [
      "112 philosophers in more than one field\n",
      "\n",
      "Busiest philosophers:\n",
      "Aristotle                     :\t 6 different fields\n",
      "Plato                         :\t 5 different fields\n",
      "Bertrand Russell              :\t 5 different fields\n",
      "Immanuel Kant                 :\t 5 different fields\n",
      "Ayn Rand                      :\t 4 different fields\n"
     ]
    }
   ],
   "source": [
    "# get all philosophers with more than one field\n",
    "multi_fields = filter(lambda p: len(p[\"fields\"]) > 1,philo_fields)\n",
    "# sort by number of fields\n",
    "multi_fields.sort(key=lambda p: len(p[\"fields\"]),reverse=True)\n",
    "print \"%d philosophers in more than one field\\n\" % len(multi_fields)\n",
    "print \"Busiest philosophers:\"\n",
    "for philo in multi_fields[:5]:\n",
    "    print \"%-30s:\\t %s different fields\" % (philo[\"name\"],len(philo[\"fields\"]))"
   ]
  },
  {
   "cell_type": "markdown",
   "metadata": {},
   "source": [
    "The above code extracts all philosophers present in more than one list sorted by the number of fields they are found in. Aristotle occurs in all of the 6 lists. It turns out that he and other very famous philosophers like Plato and Immanuel Kant actually influenced multiple areas of philosophy. \n",
    "\n",
    "### Downloading the philosopher wiki-pages\n",
    "\n",
    "With the `names.json` file created in the previous section as an input, we can now use the Wikipedia API to download the page contents for every name saved to the file. In order to minimize the processing time, it is possible to request up to 50 pages per HTTP request (see https://www.mediawiki.org/wiki/API:Query#Specifying_pages), which is utilized in our solution below. \n",
    "\n",
    "The data is saved to another json-file named `data.json`. The code also maintains a list `not_processed` which is filled with entries where the page does not exist. This occurs when list entries are added although the linked page does not exist yet. These entries are nevertheless part of the data as they might be referenced from other philosophers' pages as well. Some links consist only of a redirect to another page in which case the contents of the linked page are retreived."
   ]
  },
  {
   "cell_type": "code",
   "execution_count": 17,
   "metadata": {
    "collapsed": false
   },
   "outputs": [],
   "source": [
    "import io\n",
    "import urllib2 \n",
    "import json\n",
    "\n",
    "NAMES_PATH = \"./philosophers/names.json\"\n",
    "WIKI_API_URL = \"https://en.wikipedia.org/w/api.php\"\n",
    "WIKI_REQUEST_PARAMS = \"action=query&format=json&prop=revisions&rvprop=content\"\n",
    "\n",
    "# load names (and fields) from file\n",
    "with io.open(NAMES_PATH,\"r\",encoding=\"utf-8\") as names_file:\n",
    "    fields = { p[\"name\"] : p[\"fields\"] for p in json.loads(names_file.read()) }\n",
    "\n",
    "# request pages from API (50 at a time)\n",
    "N = 50\n",
    "names_left = [p for p in fields.keys()]\n",
    "data, not_processed = [], []\n",
    "while names_left:\n",
    "    request_titles = names_left[:N]\n",
    "    names_left = names_left[N:]\n",
    "    titles = urllib2.quote(\"|\".join(request_titles).encode(\"utf-8\"))\n",
    "    \n",
    "    # get the next batch\n",
    "    request_url = \"%s?%s&titles=%s\" % (WIKI_API_URL,WIKI_REQUEST_PARAMS,titles)\n",
    "    response = urllib2.urlopen(request_url)\n",
    "    contents = json.loads(response.read())\n",
    "    for pageid,page in contents.get(\"query\").get(\"pages\").iteritems():\n",
    "        if page.has_key(\"revisions\"):\n",
    "            text = page[\"revisions\"][0][\"*\"]\n",
    "            # check if the page contents are somewhere else (and get them)\n",
    "            if \"#REDIRECT\" in text:\n",
    "                linktexts = re.findall(r\"\\[\\[((?:[^|\\]]*)\\|?[^\\]]+)\\]\\]\", text)\n",
    "                if linktexts:\n",
    "                    title = urllib2.quote(linktexts[0].encode(\"utf-8\"))\n",
    "                    request_url = \"%s?%s&titles=%s\" % (WIKI_API_URL,WIKI_REQUEST_PARAMS,titles)\n",
    "                    response = urllib2.urlopen(request_url)\n",
    "                    contents = json.loads(response.read())\n",
    "                    text = contents[\"query\"][\"pages\"].values()[0][\"revisions\"][0][\"*\"]\n",
    "                else:\n",
    "                    text = \"\"\n",
    "        else:\n",
    "            text = \"\"\n",
    "            not_processed.append(page[\"title\"])\n",
    "        data.append({\"name\": page[\"title\"], \"fields\": fields[page[\"title\"]], \"text\": text, \"pageid\": pageid })\n",
    "\n",
    "        \n",
    "# save data to file\n",
    "with io.open('philosophers/data.json', 'w', encoding='utf-8') as data_file:\n",
    "    data_file.write(unicode(json.dumps(data, ensure_ascii=False)))"
   ]
  },
  {
   "cell_type": "code",
   "execution_count": 18,
   "metadata": {
    "collapsed": false
   },
   "outputs": [
    {
     "name": "stdout",
     "output_type": "stream",
     "text": [
      "1010 entries created\n",
      "10 pages not found\n"
     ]
    }
   ],
   "source": [
    "# Check the results\n",
    "print \"%d entries created\" % len(data)\n",
    "print \"%d pages not found\" % len(not_processed)"
   ]
  },
  {
   "cell_type": "markdown",
   "metadata": {},
   "source": [
    "Now that the data has been extracted and saved, we can process the page contents for each philosopher to extract all links. This is done similarly to the first part, while this time only links to known philosophers are kept. That way, we obtain all information needed to construct a directed graph of philosophers."
   ]
  },
  {
   "cell_type": "code",
   "execution_count": 19,
   "metadata": {
    "collapsed": false
   },
   "outputs": [
    {
     "name": "stdout",
     "output_type": "stream",
     "text": [
      "Aristotle's page links to 24 other philosophers\n"
     ]
    }
   ],
   "source": [
    "import json\n",
    "import re\n",
    "import io\n",
    "import networkx as nx\n",
    "\n",
    "NAMES_PATH = \"./philosophers/names.json\"\n",
    "DATA_PATH = \"./philosophers/data.json\"\n",
    "\n",
    "# load names\n",
    "with io.open(NAMES_PATH,\"r\",encoding=\"utf-8\") as names_file:\n",
    "    names = [p[\"name\"] for p in json.loads(names_file.read())]\n",
    "\n",
    "# load data\n",
    "with io.open(DATA_PATH,\"r\",encoding=\"utf-8\") as data_file:\n",
    "    data = json.loads(data_file.read())\n",
    "    \n",
    "# extract links to other philosophers from texts\n",
    "graph_data = {}\n",
    "for philo in data:\n",
    "    matchlist = re.findall(r\"\\[\\[((?:[^|\\]]*)\\|?[^\\]]+)\\]\\]\", philo[\"text\"])\n",
    "    links = [extractIdName(s) for s in matchlist if extractIdName(s) in names]\n",
    "    graph_data[philo[\"name\"]] = {\"fields\": philo[\"fields\"], \"links\": sorted(set(links))}\n",
    "    \n",
    "# check if we got it right\n",
    "print \"Aristotle's page links to %d other philosophers\" % len(graph_data[\"Aristotle\"][\"links\"])"
   ]
  },
  {
   "cell_type": "markdown",
   "metadata": {},
   "source": [
    "### Degree distributions\n",
    "\n",
    "**Why do you think we want to use a directed graph? Could have we used an undirected graph instead?**\n",
    "\n",
    "It is important to notice that we are not directly analyzing work relationships between philosophers but mentions in their Wikipedia articles. A work-relationship graph would probably be undirected. A reference from a philosopher's page to another philosophers page, though, can have a different meaning than the same link in the other direction.\n",
    "\n",
    "A philosopher that is mentioned on a lot of other philosophers pages has probably not worked together with all of them but rather influenced their work. This can be a measure of his/her importance. The other way around, a lot of mentions on a philosopher's page do not hint at an influencial philosopher but rather at the fact that the philosopher's work *was influenced* by a lot of others. \n",
    "\n",
    "An undirected graph could not have reflected this as it merges these two characteristics, which are inherently different. The directed graph is constructed using NetworkX in the following code. "
   ]
  },
  {
   "cell_type": "code",
   "execution_count": 20,
   "metadata": {
    "collapsed": true
   },
   "outputs": [],
   "source": [
    "import networkx as nx\n",
    "import numpy as np\n",
    "#build graph from the links\n",
    "G = nx.DiGraph()\n",
    "G.add_nodes_from(graph_data.keys())\n",
    "for p,pdata in graph_data.iteritems():\n",
    "    G.add_edges_from([(p,link) for link in pdata[\"links\"]])"
   ]
  },
  {
   "cell_type": "markdown",
   "metadata": {},
   "source": [
    "** What is the total number of nodes in the network? What is the total number of links? What's the average degree? What's the median degree? **"
   ]
  },
  {
   "cell_type": "code",
   "execution_count": 21,
   "metadata": {
    "collapsed": false
   },
   "outputs": [
    {
     "name": "stdout",
     "output_type": "stream",
     "text": [
      "Number of nodes: 1010\n",
      "Number of links: 4749\n",
      "Degree mean: 9.40\n",
      "Degree median: 4\n"
     ]
    }
   ],
   "source": [
    "print \"Number of nodes: %d\" % G.number_of_nodes()\n",
    "print \"Number of links: %d\" % G.number_of_edges()\n",
    "print \"Degree mean: %.2f\" % np.mean(G.degree().values())\n",
    "print \"Degree median: %d\" % np.median(G.degree().values())"
   ]
  },
  {
   "cell_type": "markdown",
   "metadata": {},
   "source": [
    "The fact that the median deviates significantly from the mean shows that there are some outliers with high counts which influence the average degree. \n",
    "\n",
    "** List the top 10 philosophers by in-degree and out-degree. What is the interpretation of in-degree and out-degree in this case? Have you heard about these philosophers before? **\n",
    "\n",
    "As mentioned before, the in-degree of a philosopher hints at how many colleagues base their work on the work of this philosopher, were influenced or worked together. It reflects approximately the impact, that the work of the philosopher had on the field in general. \n",
    "\n",
    "The out degree, on the other hand, is more a sign of who influenced a philosopher. It is a very local trait, meaning that a totally unknown philosopher may have a very high out degree. The out-degree is solely determined by the wiki page of that one philosopher while the in-degree is build by the whole network.\n",
    "\n",
    "Looking at the results of the top 10 philosophers by in- and out-degree below, there seems to be a correlation between the degrees, though. Seven philosophers are present in both top 10 lists. This may have several reasons. It might be because the pages also contain \"back-references\" of philosophers that were influenced through their work. Another reason could be that more famous or important topics tend to have longer wiki pages which simply leaves more space for references to less important pages that would have been ommitted otherwise."
   ]
  },
  {
   "cell_type": "code",
   "execution_count": 22,
   "metadata": {
    "collapsed": false
   },
   "outputs": [
    {
     "name": "stdout",
     "output_type": "stream",
     "text": [
      "Top 10 (in-degree)                      \tTop 10 (out-degree)                     \n",
      "\n",
      "Immanuel Kant                           133\tGeorg Wilhelm Friedrich Hegel           50\n",
      "Aristotle                               127\tFriedrich Nietzsche                     44\n",
      "Bertrand Russell                        96\tImmanuel Kant                           42\n",
      "Plato                                   91\tMartin Heidegger                        40\n",
      "Karl Marx                               88\tBertrand Russell                        40\n",
      "Ludwig Wittgenstein                     72\tDavid Hume                              38\n",
      "David Hume                              70\tSøren Kierkegaard                       33\n",
      "Friedrich Nietzsche                     69\tJohn Stuart Mill                        32\n",
      "John Locke                              59\tPlato                                   31\n",
      "Georg Wilhelm Friedrich Hegel           58\tMichel Foucault                         31\n"
     ]
    }
   ],
   "source": [
    "in_deg = G.in_degree()\n",
    "out_deg = G.out_degree()\n",
    "top_10_in = sorted(in_deg,key=in_deg.__getitem__,reverse=True)[:10]\n",
    "top_10_out = sorted(out_deg,key=out_deg.__getitem__,reverse=True)[:10]\n",
    "\n",
    "print \"%-40s\\t%-40s\\n\" % (\"Top 10 (in-degree)\",\"Top 10 (out-degree)\")\n",
    "for i in range(10):\n",
    "    print \"%-40s%d\\t%-40s%d\" % (top_10_in[i],in_deg[top_10_in[i]],top_10_out[i],out_deg[top_10_out[i]])"
   ]
  },
  {
   "cell_type": "markdown",
   "metadata": {},
   "source": [
    "** Plot the distribution of in-degrees and out-degrees. What is the most common degree? **"
   ]
  },
  {
   "cell_type": "code",
   "execution_count": 23,
   "metadata": {
    "collapsed": false
   },
   "outputs": [
    {
     "name": "stdout",
     "output_type": "stream",
     "text": [
      "Most common in-degree: 0\n",
      "Most common out-degree: 0\n"
     ]
    },
    {
     "data": {
      "image/png": "[encoded data removed]",
      "text/plain": [
       "<matplotlib.figure.Figure at 0xafb2e10>"
      ]
     },
     "metadata": {},
     "output_type": "display_data"
    }
   ],
   "source": [
    "%matplotlib inline\n",
    "import matplotlib.pyplot as plt\n",
    "\n",
    "in_degs = in_deg.values()\n",
    "in_edges = np.subtract(range(np.max(in_degs)+1),0.5)\n",
    "in_hist,_ = np.histogram(in_degs,bins=in_edges)\n",
    "\n",
    "out_degs = out_deg.values()\n",
    "out_edges = np.subtract(range(np.max(out_degs)+1),0.5)\n",
    "out_hist,_ = np.histogram(out_degs,bins=out_edges)\n",
    "\n",
    "max_deg = np.max([np.max(out_degs),np.max(in_degs)])\n",
    "\n",
    "plt.rcParams['figure.figsize'] = (14, 8)\n",
    "plt.subplot(2,1,1)\n",
    "plt.title(\"In-degree (top) and out-degree (bottom) histogram\")\n",
    "plt.bar(in_edges[:-1],in_hist,width=1,color=\"k\",edgecolor=\"k\")\n",
    "plt.xlim(-0.5,max_deg+0.5)\n",
    "plt.ylabel(\"hist(count)\")\n",
    "plt.subplot(2,1,2)\n",
    "plt.bar(out_edges[:-1],out_hist,width=1,color=\"k\",edgecolor=\"k\")\n",
    "plt.xlim(-0.5,max_deg+0.5)\n",
    "plt.ylabel(\"hist(count)\")\n",
    "plt.xlabel(\"count\")\n",
    "\n",
    "print \"Most common in-degree: %d\" % np.bincount(in_degs).argmax()\n",
    "print \"Most common out-degree: %d\" % np.bincount(out_degs).argmax()"
   ]
  },
  {
   "cell_type": "markdown",
   "metadata": {},
   "source": [
    "** Plot the distribution of in-degrees and out-degrees one more time, this time plotted loglog scale. Describe the distributions (as you would in a well written figure caption). Do they look Poissonian? Power-law? Something in between? **\n"
   ]
  },
  {
   "cell_type": "code",
   "execution_count": 24,
   "metadata": {
    "collapsed": false
   },
   "outputs": [
    {
     "data": {
      "image/png": "[encoded data removed]",
      "text/plain": [
       "<matplotlib.figure.Figure at 0x3b780f0>"
      ]
     },
     "metadata": {},
     "output_type": "display_data"
    }
   ],
   "source": [
    "edges = np.subtract(range(1,130),0.5)\n",
    "in_hist,_ = np.histogram(in_degs,bins=edges)\n",
    "out_hist,_ = np.histogram(out_degs,bins=edges)\n",
    "\n",
    "plot_edges = np.divide(np.add(edges[:-1],edges[1:]),2)\n",
    "plt.subplot(2,1,1)\n",
    "plt.title(\"In-degree (top) and out-degree (bottom) histogram\")\n",
    "plt.loglog(plot_edges,in_hist,\".\",color=\"k\",markersize=10)\n",
    "plt.xlim(1,140)\n",
    "plt.ylim(0.8,1000)\n",
    "plt.ylabel(\"hist(count)\")\n",
    "plt.subplot(2,1,2)\n",
    "plt.loglog(plot_edges,out_hist,\".\",color=\"k\",markersize=10)\n",
    "plt.xlim(1,140)\n",
    "plt.ylim(0.8,1000)\n",
    "plt.ylabel(\"hist(count)\")\n",
    "plt.xlabel(\"count\")\n",
    "plt.show()"
   ]
  },
  {
   "cell_type": "markdown",
   "metadata": {},
   "source": [
    "The figure shows the in-degree and out-degree histograms of the philosopher network on a double logarithmic axis. The in-degree resembles a power-law distribution with an approximately linear decline in the double logarithmic setting. The spread towards higher degrees can be explained by the limited size of the dataset as the minimum histogram value is 1.\n",
    "\n",
    "In the out-degree histogram a light exponential cutoff is observed. This hints at a power-law distribution with sublinear preferential attachment. This limits the size of the biggest hubs. It can be explained in the context of a limited article length which can not contain infinitely many links.\n",
    "\n",
    "\n",
    "** Plot a scatter plot of the the in- versus out- degree for all philosophers using a loglog scale. Comment on the relation between the two. Do any particular philosophers stand out? **"
   ]
  },
  {
   "cell_type": "code",
   "execution_count": 25,
   "metadata": {
    "collapsed": false
   },
   "outputs": [
    {
     "data": {
      "image/png": "[encoded data removed]",
      "text/plain": [
       "<matplotlib.figure.Figure at 0x16811f28>"
      ]
     },
     "metadata": {},
     "output_type": "display_data"
    }
   ],
   "source": [
    "nodes = G.nodes()\n",
    "xdata = np.array([G.in_degree(n) for n in nodes],int) +1\n",
    "ydata = np.array([G.out_degree(n) for n in nodes],int) +1\n",
    "\n",
    "highlight = [\"Aristotle\", \"Immanuel Kant\", \"Georg Wilhelm Friedrich Hegel\", \"Thomas Hobbes\"];\n",
    "\n",
    "index_in_zero = [i for i,x in enumerate(xdata==1) if x]\n",
    "index_out_zero = [i for i,x in enumerate(ydata==1) if x]\n",
    "\n",
    "highlight.append(max([nodes[i] for i in index_out_zero], key=lambda n: G.in_degree(n)))\n",
    "highlight.append(max([nodes[i] for i in index_in_zero], key=lambda n: G.out_degree(n)))\n",
    "\n",
    "plt.loglog(xdata,ydata,\".k\")\n",
    "for a in highlight:\n",
    "    plt.annotate(a, xy=(xdata[nodes.index(a)],ydata[nodes.index(a)]),\n",
    "                 xytext=(xdata[nodes.index(a)],1.5*ydata[nodes.index(a)]), textcoords='data',\n",
    "                arrowprops=dict(facecolor='black',shrink=0.2, width=.4,headwidth=3,headlength=3),\n",
    "                horizontalalignment='center',\n",
    "                verticalalignment='top')\n",
    "    \n",
    "plt.xlim(0.7,200)\n",
    "plt.ylim(0.7,200)\n",
    "plt.title(\"Scatter plot of in-degree versus out-degree\")\n",
    "plt.xlabel(\"k_in + 1\")\n",
    "plt.ylabel(\"k_out + 1\")\n",
    "plt.show()"
   ]
  },
  {
   "cell_type": "markdown",
   "metadata": {},
   "source": [
    "The results hint at a correlation between in-degree and out-degree. The curve flattens though, which makes sense. A single article does not contain indefinitely many references according to the popularity or the influence of the philosopher. The in-degree on the other hand does not have this limitation as a page can be referenced from arbitrarily many pages.\n",
    "\n",
    "Certain philosophers stand out in the chart. Generally, these are philosophers with a high difference between in-degree and out-degree. First, the philosophers with the highest degrees. While Georg Wilhelm Friedrich Hegel as the philosopher with the highest out-degree seems to be part of a cluster, Aristotle and Immanuel Kant are outside of this cluster of high-degree nodes because they also have an even higher in-degree.\n",
    "\n",
    "*Note that the degrees $k_i + 1$ are plotted in order to be able to represent the value zero on the logarithmic scale.*"
   ]
  },
  {
   "cell_type": "code",
   "execution_count": null,
   "metadata": {
    "collapsed": true
   },
   "outputs": [],
   "source": []
  }
 ],
 "metadata": {
  "kernelspec": {
   "display_name": "Python [Root]",
   "language": "python",
   "name": "Python [Root]"
  },
  "language_info": {
   "codemirror_mode": {
    "name": "ipython",
    "version": 2
   },
   "file_extension": ".py",
   "mimetype": "text/x-python",
   "name": "python",
   "nbconvert_exporter": "python",
   "pygments_lexer": "ipython2",
   "version": "2.7.12"
  }
 },
 "nbformat": 4,
 "nbformat_minor": 0
}
