{
 "cells": [
  {
   "cell_type": "markdown",
   "metadata": {},
   "source": [
    "# Part One: Network Models\n",
    "\n",
    "## Watts-Strogatz Networks\n",
    "\n",
    "* Use nx.watts_strogatz_graph to generate 3 graphs with 500 nodes each, average degree = 4, and rewiring probablity p = 0, 0.1, and 1. Calculate the average shortest path length < d > for each one. Describe what happens to the network when p = 1."
   ]
  },
  {
   "cell_type": "code",
   "execution_count": 128,
   "metadata": {
    "collapsed": true
   },
   "outputs": [],
   "source": [
    "%matplotlib inline\n",
    "\n",
    "import matplotlib.pyplot as plt\n",
    "import numpy as np\n",
    "import networkx as nx\n",
    "import random as rnd\n",
    "import collections"
   ]
  },
  {
   "cell_type": "code",
   "execution_count": 42,
   "metadata": {
    "collapsed": false
   },
   "outputs": [
    {
     "name": "stdout",
     "output_type": "stream",
     "text": [
      "p = 0, 62.875751503\n",
      "p = 0.1, 6.98121042084\n",
      "p = 1, 4.72342284569\n"
     ]
    }
   ],
   "source": [
    "#set up vars\n",
    "N = 500\n",
    "k = 4 #average degree\n",
    "p = [0, 0.1, 1]\n",
    "\n",
    "#generating graphs\n",
    "generated_graphs = []\n",
    "for prob in p:\n",
    "    generated_graphs.append(nx.watts_strogatz_graph(N,k,prob))\n",
    "\n",
    "#calculate <d> for each graph\n",
    "for i,item in enumerate(generated_graphs):\n",
    "    print \"p = \"+ str(p[i]) + \", \" + str(nx.average_shortest_path_length(item))"
   ]
  },
  {
   "cell_type": "markdown",
   "metadata": {},
   "source": [
    "Describe what happens to the network when p = 1.\n",
    "* When p = 1 the graph becomes very dense."
   ]
  },
  {
   "cell_type": "markdown",
   "metadata": {},
   "source": [
    "Let's understand the behavior of the WS model as we increase p in more detail. Generate 50 networks with N = 500, < k > = 4, for each of p = {0, 0.01, 0.03, 0.05, 0.1, 0.2}. Calculate the average of < d > as well as the standard deviation over the 50 networks, to create a plot that shows how the path length decreases very quickly with only a little fraction of re-wiring. Use the standard deviation to add errorbars to the plot. "
   ]
  },
  {
   "cell_type": "code",
   "execution_count": 101,
   "metadata": {
    "collapsed": false
   },
   "outputs": [],
   "source": [
    "N = 500\n",
    "k = 4\n",
    "p = [0, 0.01, 0.03, 0.05, 0.1, 0.2]\n",
    "\n",
    "#generating graphs\n",
    "generated_graphs = {}\n",
    "for prob in p:\n",
    "    generated_subgraphs = [] #to store 50 generated graphs with p = prob\n",
    "    for j in range(0,50):\n",
    "        generated_subgraphs.append(nx.watts_strogatz_graph(N,k,prob))\n",
    "    generated_graphs[prob] = generated_subgraphs\n",
    "    \n",
    "#calculate <d> for each graph\n",
    "calculated_d = {}\n",
    "for prob in p:\n",
    "    graphs = generated_graphs[prob] #get graphs of particular prob (p)\n",
    "    calculated_d_ofgraphs = [] #to store calculated <d>\n",
    "    for i, item in enumerate(graphs):\n",
    "        calculated_d_ofgraphs.append(nx.average_shortest_path_length(item))\n",
    "    calculated_d[prob] = calculated_d_ofgraphs"
   ]
  },
  {
   "cell_type": "code",
   "execution_count": 126,
   "metadata": {
    "collapsed": false
   },
   "outputs": [],
   "source": [
    "#calculating standard deviation and mean\n",
    "res_x = []\n",
    "res_y = []\n",
    "res_dev = []\n",
    "for prob in p:\n",
    "    res_y.append(np.mean(calculated_d[prob]))\n",
    "    res_x.append(prob)\n",
    "    res_dev.append(np.std(calculated_d[prob]))"
   ]
  },
  {
   "cell_type": "code",
   "execution_count": 133,
   "metadata": {
    "collapsed": false
   },
   "outputs": [
    {
     "data": {
      "image/png": "[encoded data removed]",
      "text/plain": [
       "<matplotlib.figure.Figure at 0x42eca748>"
      ]
     },
     "metadata": {},
     "output_type": "display_data"
    }
   ],
   "source": [
    "x = res_x #probability\n",
    "y = res_y #mean\n",
    "yerr = res_dev #deviation\n",
    "\n",
    "plt.figure()\n",
    "lines = plt.errorbar(x, y, xerr=0, yerr = yerr)\n",
    "plt.ylabel('ave(<d>)')\n",
    "plt.xlabel('p')\n",
    "plt.margins(0.05, 0.1) #inner margin \n",
    "plt.setp(lines, 'color', 'black', 'linewidth', 1.0)\n",
    "plt.scatter(x,y,s=20) #size of dots\n",
    "plt.show()"
   ]
  },
  {
   "cell_type": "code",
   "execution_count": null,
   "metadata": {
    "collapsed": true
   },
   "outputs": [],
   "source": []
  }
 ],
 "metadata": {
  "kernelspec": {
   "display_name": "Python [Root]",
   "language": "python",
   "name": "Python [Root]"
  },
  "language_info": {
   "codemirror_mode": {
    "name": "ipython",
    "version": 2
   },
   "file_extension": ".py",
   "mimetype": "text/x-python",
   "name": "python",
   "nbconvert_exporter": "python",
   "pygments_lexer": "ipython2",
   "version": "2.7.12"
  }
 },
 "nbformat": 4,
 "nbformat_minor": 0
}
