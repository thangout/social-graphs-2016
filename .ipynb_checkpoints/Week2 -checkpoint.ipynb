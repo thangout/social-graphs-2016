{
 "cells": [
  {
   "cell_type": "markdown",
   "metadata": {},
   "source": [
    "# Exercises 1\n",
    "Chapter 1 (Don't forget that you should be answering these in an IPython notebook.)\n",
    "\n",
    "List three different real networks and state the nodes and links for each of them.\n",
    "Tell us of the network you are personally most interested in. Address the following questions:\n",
    "What are its nodes and links?\n",
    "How large is it?\n",
    "Can be mapped out?\n",
    "Why do you care about it?\n",
    "In your view what would be the area where network science could have the biggest impact in the next decade? Explain your answer - and base it on the text in the book."
   ]
  },
  {
   "cell_type": "markdown",
   "metadata": {},
   "source": [
    "### 3 different networks\n",
    "Lan network - nodes are PCs links are cabels\n",
    "\n",
    "Cities - nodes are towns links are roads\n",
    "\n",
    "Society - nodes are people, links are relationships\n",
    "\n",
    "### Most  interested\n",
    "Probably Cities, its basicly the whole planet so really huge. It can be mapped out. I care because it allowed people to move arround and travel. Well so far I believe that the limits where nearly reached since we all the algorithms for shortest path etc are well known. \n"
   ]
  },
  {
   "cell_type": "markdown",
   "metadata": {},
   "source": [
    "# Excercises 2"
   ]
  },
  {
   "cell_type": "markdown",
   "metadata": {},
   "source": [
    "## 2.1\n",
    "\n",
    "1. Can be, 2 vertices with degree 2 and 2verts with degree 3\n",
    "2. Cant be, since all 4 verts have degree-3\n",
    "3. Cant be, there are 2 seperated graphs\n",
    "4. Cant be\n"
   ]
  },
  {
   "cell_type": "markdown",
   "metadata": {},
   "source": [
    "## 2.2 Graph Representation \n"
   ]
  },
  {
   "cell_type": "code",
   "execution_count": 40,
   "metadata": {
    "collapsed": false
   },
   "outputs": [
    {
     "name": "stdout",
     "output_type": "stream",
     "text": [
      "[1, 2, 3, 4, 5, 6]\n",
      "[(1, 2), (1, 3), (1, 4), (1, 6), (2, 3), (2, 4), (3, 6)]\n"
     ]
    }
   ],
   "source": [
    "#creating undirected graph\n",
    "import networkx as nx\n",
    "G=nx.Graph()\n",
    "\n",
    "nodes = range(1,7)\n",
    "G.add_nodes_from(nodes)\n",
    "print G.nodes()\n",
    "\n",
    "edges = [\n",
    "    (1,2),\n",
    "    (1,6),\n",
    "    (1,4),\n",
    "    (1,3),\n",
    "    (2,3),\n",
    "    (2,4),\n",
    "    (3,6)\n",
    "]\n",
    "G.add_edges_from(edges)\n",
    "\n",
    "print G.edges()"
   ]
  },
  {
   "cell_type": "code",
   "execution_count": 37,
   "metadata": {
    "collapsed": true
   },
   "outputs": [],
   "source": [
    "#creating directed graph\n",
    "DG = nx.DiGraph()\n",
    "DG.add_nodes_from(range(1,7))\n",
    "\n",
    "di_edges = [\n",
    "    (1,2),\n",
    "    (6,1),\n",
    "    (4,1),\n",
    "    (3,1),\n",
    "    (2,3),\n",
    "    (3,2),\n",
    "    (2,4),\n",
    "    (6,3)\n",
    "]\n",
    "DG.add_edges_from(di_edges)\n"
   ]
  },
  {
   "cell_type": "code",
   "execution_count": 30,
   "metadata": {
    "collapsed": false
   },
   "outputs": [
    {
     "name": "stdout",
     "output_type": "stream",
     "text": [
      "[[0 1 1 1 0 1]\n",
      " [1 0 1 1 0 0]\n",
      " [1 1 0 0 0 1]\n",
      " [1 1 0 0 0 0]\n",
      " [0 0 0 0 0 0]\n",
      " [1 0 1 0 0 0]]\n",
      "[[0 1 0 0 0 0]\n",
      " [0 0 1 1 0 0]\n",
      " [1 1 0 0 0 0]\n",
      " [1 0 0 0 0 0]\n",
      " [0 0 0 0 0 0]\n",
      " [1 0 1 0 0 0]]\n"
     ]
    }
   ],
   "source": [
    "import scipy as sp\n",
    "#adjency matrices\n",
    "\n",
    "#undirected \n",
    "A_G = nx.adjacency_matrix(G)\n",
    "print (A_G.todense())\n",
    "\n",
    "#directed\n",
    "A_DG = nx.adjacency_matrix(DG)\n",
    "print (A_DG.todense())\n"
   ]
  },
  {
   "cell_type": "code",
   "execution_count": 41,
   "metadata": {
    "collapsed": false
   },
   "outputs": [
    {
     "name": "stdout",
     "output_type": "stream",
     "text": [
      "1 2 3 4 6\n",
      "2 3 4\n",
      "3 6\n",
      "4\n",
      "5\n",
      "6\n",
      "\n",
      "1 2\n",
      "2 3 4\n",
      "3 1 2\n",
      "4 1\n",
      "5 1 3\n",
      "6\n"
     ]
    }
   ],
   "source": [
    "#adjaency list\n",
    "\n",
    "#undirected \n",
    "for line in nx.generate_adjlist(G):\n",
    "    print(line)\n",
    "    \n",
    "print _\n",
    "#directed\n",
    "for line in nx.generate_adjlist(DG):\n",
    "    print(line)\n"
   ]
  },
  {
   "cell_type": "code",
   "execution_count": 35,
   "metadata": {
    "collapsed": false
   },
   "outputs": [
    {
     "name": "stdout",
     "output_type": "stream",
     "text": [
      "0.638888888889\n"
     ]
    }
   ],
   "source": [
    "#The average clustering coefficient of graph G\n",
    "print(nx.average_clustering(G))"
   ]
  },
  {
   "cell_type": "markdown",
   "metadata": {},
   "source": [
    "If you switch the labels of nodes 5 and 6 in G \n",
    "* it would pretty much reamain the same. In matrix the \"1\" would on 5th row and col. In linked list it changes the 6 to 5 otherwise stays the same. "
   ]
  },
  {
   "cell_type": "markdown",
   "metadata": {},
   "source": [
    "What kind of information can you not infer from the link list representation of the network that you can infer from the adjacency matrix?\n",
    "\n",
    "* both representations are equal"
   ]
  },
  {
   "cell_type": "markdown",
   "metadata": {},
   "source": [
    "In the (a) network, how many paths (with possible repetition of nodes and links) of length 3 exist starting from node 1 and ending at node 3? And in (b)?"
   ]
  },
  {
   "cell_type": "code",
   "execution_count": 64,
   "metadata": {
    "collapsed": false
   },
   "outputs": [
    {
     "name": "stdout",
     "output_type": "stream",
     "text": [
      "[1, 2, 3]\n",
      "[1, 3]\n",
      "[1, 4, 2, 3]\n",
      "[1, 6, 3]\n",
      "Number of paths in G is 4\n",
      "[1, 2, 3]\n",
      "Number of paths in DG is 1\n"
     ]
    }
   ],
   "source": [
    "all_paths = nx.all_simple_paths(G, source=1, target=3)\n",
    "\n",
    "paths_count = 0\n",
    "for path in all_paths:\n",
    "    print(path)\n",
    "    paths_count += 1\n",
    "\n",
    "print \"Number of paths in G is \"  + str(paths_count)\n",
    "\n",
    "all_paths = nx.all_simple_paths(DG, source=1, target=3)\n",
    "\n",
    "paths_count = 0\n",
    "for path in all_paths:\n",
    "    print(path)\n",
    "    paths_count += 1\n",
    "\n",
    "print \"Number of paths in DG is \"  + str(paths_count)\n"
   ]
  },
  {
   "cell_type": "code",
   "execution_count": 72,
   "metadata": {
    "collapsed": false
   },
   "outputs": [
    {
     "name": "stdout",
     "output_type": "stream",
     "text": [
      "{1: 4, 2: 3, 3: 3, 4: 2, 5: 0, 6: 2}\n",
      "{1: 4, 2: 4, 3: 4, 4: 2, 5: 2, 6: 0}\n",
      "{1: 0.5, 2: 0.6666666666666666, 3: 0.6666666666666666, 4: 1.0, 5: 0.0, 6: 1.0}\n",
      "set([1, 2, 3, 4, 6])\n",
      "set([5])\n",
      "\n",
      "set([1, 2, 3, 4])\n",
      "set([5])\n",
      "set([6])\n"
     ]
    }
   ],
   "source": [
    "#Degree, Clustering Coefficient and Components\n",
    "\n",
    "#Degree\n",
    "print G.degree()\n",
    "print DG.degree()\n",
    "\n",
    "#Clustering\n",
    "\n",
    "print nx.clustering(G)\n",
    "#print nx.clustering(DG) is not defined for directed graphs\n",
    "\n",
    "#Components\n",
    "for item in nx.connected_components(G):\n",
    "    print item \n",
    "\n",
    "print _\n",
    "for item in nx.strongly_connected_components(DG):\n",
    "    print item \n",
    "\n",
    "\n"
   ]
  },
  {
   "cell_type": "markdown",
   "metadata": {},
   "source": [
    "Consider an undirected network of size N in which each node has degree k = 1. Which condition does N have to satisfy? What is the degree distribution of this network? How many components does the network have?\n",
    "* There must be N/2 of E, E - edge\n",
    "* All nodes a have 1 degree\n",
    "* It has N/2 components"
   ]
  },
  {
   "cell_type": "markdown",
   "metadata": {},
   "source": [
    "Consider now a network in which each node has degree k = 2 and clustering coefficient C = 1. How does the network look like? What condition does N satisfy in this case?\n",
    "* its a triangle\n",
    "* N must be equal to 3\n"
   ]
  },
  {
   "cell_type": "markdown",
   "metadata": {},
   "source": [
    "# 2.5 bipartite graphs"
   ]
  },
  {
   "cell_type": "code",
   "execution_count": 74,
   "metadata": {
    "collapsed": true
   },
   "outputs": [],
   "source": [
    "from networkx.algorithms import bipartite"
   ]
  },
  {
   "cell_type": "code",
   "execution_count": 75,
   "metadata": {
    "collapsed": true
   },
   "outputs": [],
   "source": [
    "BG = nx.Graph()\n",
    "BG.add_nodes_from(range(1,7), bipartite=0) # Add the node attribute \"bipartite\"\n",
    "BG.add_nodes_from(range(7,12), bipartite=1)"
   ]
  },
  {
   "cell_type": "code",
   "execution_count": 76,
   "metadata": {
    "collapsed": true
   },
   "outputs": [],
   "source": [
    "edges = [\n",
    "    (1,7),\n",
    "    (2,9),\n",
    "    (3,7),\n",
    "    (3,8),\n",
    "    (3,9),\n",
    "    (4,9),\n",
    "    (4,10),\n",
    "    (5,9),\n",
    "    (5,11),\n",
    "    (6,11)\n",
    "]\n",
    "BG.add_edges_from(edges)"
   ]
  },
  {
   "cell_type": "code",
   "execution_count": 77,
   "metadata": {
    "collapsed": false
   },
   "outputs": [
    {
     "name": "stdout",
     "output_type": "stream",
     "text": [
      "[[0 0 0 0 0 0 1 0 0 0 0]\n",
      " [0 0 0 0 0 0 0 0 1 0 0]\n",
      " [0 0 0 0 0 0 1 1 1 0 0]\n",
      " [0 0 0 0 0 0 0 0 1 1 0]\n",
      " [0 0 0 0 0 0 0 0 1 0 1]\n",
      " [0 0 0 0 0 0 0 0 0 0 1]\n",
      " [1 0 1 0 0 0 0 0 0 0 0]\n",
      " [0 0 1 0 0 0 0 0 0 0 0]\n",
      " [0 1 1 1 1 0 0 0 0 0 0]\n",
      " [0 0 0 1 0 0 0 0 0 0 0]\n",
      " [0 0 0 0 1 1 0 0 0 0 0]]\n"
     ]
    }
   ],
   "source": [
    "#adjency matrix\n",
    "A_BG = nx.adjacency_matrix(BG)\n",
    "print (A_BG.todense())"
   ]
  },
  {
   "cell_type": "markdown",
   "metadata": {},
   "source": [
    " Why is it a block-diagonal matrix?\n",
    " * Because there are no connection inbetween each set of verts"
   ]
  },
  {
   "cell_type": "markdown",
   "metadata": {},
   "source": [
    "Calculate the average degree of the purple nodes and the average degree of the green nodes in the bipartite network."
   ]
  },
  {
   "cell_type": "code",
   "execution_count": 98,
   "metadata": {
    "collapsed": false
   },
   "outputs": [
    {
     "name": "stdout",
     "output_type": "stream",
     "text": [
      "{8: 1, 9: 4, 10: 1, 11: 2, 7: 2}\n",
      "{1: 1, 2: 1, 3: 3, 4: 2, 5: 2, 6: 1}\n",
      "1\n",
      "4\n",
      "1\n",
      "2\n",
      "2\n",
      "1.66666666667 VS 2.0\n"
     ]
    }
   ],
   "source": [
    "import numpy as np\n",
    "\n",
    "degX,degY=bipartite.degrees(BG,range(1,7))\n",
    "print degX\n",
    "print degY\n",
    "\n",
    "for i in degX:\n",
    "    print degX[i]\n",
    "    \n",
    "average_deg_X = sum(degX.itervalues()) / float(len(range(1,7)))\n",
    "\n",
    "average_deg_Y = sum(degY.itervalues()) / float(len(range(7,12)))\n",
    "\n",
    "print str(average_deg_X) + \" VS \" + str(average_deg_Y) "
   ]
  },
  {
   "cell_type": "markdown",
   "metadata": {},
   "source": [
    "Calculate the average degree in each of the two network projections. Is it surprising that the values are different from those obtained in point (c)?\n",
    "* no its not suprising "
   ]
  },
  {
   "cell_type": "markdown",
   "metadata": {},
   "source": [
    "What is the maximum number of links Lmax the network can have?\n",
    "* L_max = 2N"
   ]
  },
  {
   "cell_type": "markdown",
   "metadata": {},
   "source": [
    "How many links cannot occur compared to a non-bipartite network of size N = N1 + N2 ?"
   ]
  },
  {
   "cell_type": "markdown",
   "metadata": {},
   "source": [
    "* N1 - 1 + N2 - 1\n",
    "\n"
   ]
  },
  {
   "cell_type": "markdown",
   "metadata": {},
   "source": [
    "If N1‹‹N2 , what can you say about the network density, that is the total number of links over the maximum number of links, Lmax?\n",
    "* stays the same?"
   ]
  },
  {
   "cell_type": "markdown",
   "metadata": {},
   "source": [
    "Find an expression connecting N1, N2 and the average degree for the two sets in the bipartite network, 〈k1〉 and 〈k2〉.\n",
    "* s"
   ]
  },
  {
   "cell_type": "markdown",
   "metadata": {},
   "source": [
    "# Part 3: Plotting degree distributions"
   ]
  },
  {
   "cell_type": "code",
   "execution_count": 16,
   "metadata": {
    "collapsed": true
   },
   "outputs": [],
   "source": [
    "import matplotlib.pyplot as plt\n",
    "import numpy as np\n",
    "import networkx as nx\n",
    "import random as rnd\n",
    "import collections"
   ]
  },
  {
   "cell_type": "markdown",
   "metadata": {},
   "source": [
    "## Binning real numbers"
   ]
  },
  {
   "cell_type": "code",
   "execution_count": 104,
   "metadata": {
    "collapsed": true
   },
   "outputs": [],
   "source": [
    "mu, sigma = 2, 0.125 # mean and standard deviation\n",
    "s = np.random.normal(mu, sigma, 5000)"
   ]
  },
  {
   "cell_type": "code",
   "execution_count": 154,
   "metadata": {
    "collapsed": false
   },
   "outputs": [
    {
     "name": "stdout",
     "output_type": "stream",
     "text": [
      "[ 1.54218793  1.63660524  1.73102255  1.82543986  1.91985717  2.01427448\n",
      "  2.10869179  2.20310911  2.29752642  2.39194373  2.48636104]\n"
     ]
    }
   ],
   "source": [
    "count, bins = np.histogram(s, density=True)\n",
    "\n",
    "print bins\n",
    "#firstBin = bins[0]\n",
    "bins = np.delete(bins,1,0)\n",
    "\n",
    "\n",
    "#What does the numpy.histogram function return? \n",
    "#returns counts and bins"
   ]
  },
  {
   "cell_type": "code",
   "execution_count": 155,
   "metadata": {
    "collapsed": false
   },
   "outputs": [],
   "source": [
    "plt.plot(bins,count)\n",
    "plt.show()"
   ]
  },
  {
   "cell_type": "markdown",
   "metadata": {},
   "source": [
    "Explain how you deal with this problem and why\n",
    "* delete the first value in bins because its the edge value"
   ]
  },
  {
   "cell_type": "markdown",
   "metadata": {},
   "source": [
    "## Binning integers"
   ]
  },
  {
   "cell_type": "code",
   "execution_count": 180,
   "metadata": {
    "collapsed": true
   },
   "outputs": [],
   "source": [
    "s = np.random.poisson(10, 5000)"
   ]
  },
  {
   "cell_type": "code",
   "execution_count": 181,
   "metadata": {
    "collapsed": false
   },
   "outputs": [],
   "source": [
    "max_range = max(s)\n",
    "min_range = min(s)"
   ]
  },
  {
   "cell_type": "code",
   "execution_count": 182,
   "metadata": {
    "collapsed": false
   },
   "outputs": [
    {
     "name": "stdout",
     "output_type": "stream",
     "text": [
      "[0, 1, 2, 3, 4, 5, 6, 7, 8, 9, 10, 11, 12, 13, 14, 15, 16, 17, 18, 19, 20, 21, 22, 23, 24]\n",
      "[1, 2, 6, 38, 105, 196, 352, 455, 561, 625, 624, 563, 525, 378, 270, 164, 137, 86, 51, 40, 27, 24, 22, 24, 24]\n"
     ]
    }
   ],
   "source": [
    "count = range(min_range,max_range+2)\n",
    "#count = [count[item] + 1 for item in s]\n",
    "print count\n",
    "for item in s:\n",
    "    count[item] += 1\n",
    "\n",
    "print count"
   ]
  },
  {
   "cell_type": "code",
   "execution_count": 183,
   "metadata": {
    "collapsed": false
   },
   "outputs": [],
   "source": [
    "plt.bar(range(min_range,max_range+2),count)\n",
    "plt.show()"
   ]
  },
  {
   "cell_type": "markdown",
   "metadata": {},
   "source": [
    "## Binning and plotting degree distributions."
   ]
  },
  {
   "cell_type": "code",
   "execution_count": 29,
   "metadata": {
    "collapsed": false
   },
   "outputs": [],
   "source": [
    "# erdos renyi graph\n",
    "n = 5000\n",
    "k = 10\n",
    "p = k/float((n - 1))# k = p*(n-1)\n",
    "\n",
    "EG = nx.erdos_renyi_graph(n,p) #generate erdos renyi, what kind of name is that?\n",
    "\n",
    "list_to_sort = []\n",
    "for n,d in EG.degree().iteritems(): #exttract degrees into separate list\n",
    "    list_to_sort.append(d)\n",
    "\n",
    "sorted_degrees = sorted(list_to_sort)\n",
    "degreeCount=collections.Counter(sorted_degrees) # counts each degree \n",
    "\n",
    "deg, cnt = zip(*degreeCount.items()) # unzip dictionary for plotting"
   ]
  },
  {
   "cell_type": "code",
   "execution_count": 37,
   "metadata": {
    "collapsed": true
   },
   "outputs": [],
   "source": [
    "#plotting\n",
    "fig, ax = plt.subplots()\n",
    "plt.bar(deg, cnt, width=0.80, color='b')\n",
    "plt.title(\"Degree Histogram\")\n",
    "plt.ylabel(\"Count\")\n",
    "plt.xlabel(\"Degree\")\n",
    "ax.set_xticks([d + 0.4 for d in deg])\n",
    "ax.set_xticklabels(deg)\n",
    "\n",
    "plt.show()"
   ]
  },
  {
   "cell_type": "markdown",
   "metadata": {},
   "source": [
    "# Part 4: Random networks"
   ]
  },
  {
   "cell_type": "markdown",
   "metadata": {},
   "source": [
    "Consider an Erdős-Rényi network with N = 3,000 nodes, connected to each other with probability p = 10–3."
   ]
  },
  {
   "cell_type": "code",
   "execution_count": 2,
   "metadata": {
    "collapsed": false
   },
   "outputs": [
    {
     "data": {
      "text/plain": [
       "0.00033344448149383126"
      ]
     },
     "execution_count": 2,
     "metadata": {},
     "output_type": "execute_result"
    }
   ],
   "source": [
    "N = 3000\n",
    "p = 0.001\n",
    "\n",
    "#What is the expected number of links, 〈L〉?\n",
    "L = (p*N*(N-1)) / float(2)\n",
    "\n",
    "#In which regime is the network?\n",
    "\n",
    "#Calculate the probability pc so that the network is at critical point\n",
    "#means <K> = 1\n",
    "# 1 = p*(N-1)\n",
    "\n",
    "p_critical = 1/float((N-1))\n",
    "\n",
    "#Given the linking probability p = 10–3, calculate the number of nodes Ncr so that the network has only one component.\n",
    "\n",
    "#For the network in (d), calculate the average degree 〈kcr〉 and the average distance between two randomly chosen nodes 〈d〉.\n",
    "\n",
    "#Calculate the degree distribution pk of this network (approximate with a Poisson degree distribution)."
   ]
  },
  {
   "cell_type": "code",
   "execution_count": 146,
   "metadata": {
    "collapsed": false
   },
   "outputs": [],
   "source": [
    "n = 200\n",
    "k = 1.5\n",
    "p = k/float((n - 1))# k = p*(n-1)\n",
    "\n",
    "EG = nx.erdos_renyi_graph(n,p) #generate erdos renyi, what kind of name is that?\n",
    "\n",
    "scc = nx.connected_component_subgraphs(EG)\n",
    "\n",
    "components = {}\n",
    "\n",
    "for i, component in enumerate(scc):\n",
    "    nodes = component.nodes()\n",
    "    components[len(nodes)] = component # the KEY of dict is the size of SCC\n",
    "    \n",
    "max_scc = max(components) #find the biggest index from extracted components\n",
    "\n",
    "extracted_subgraph = components[max_scc] # the biggest SCC from graph\n",
    "\n",
    "random_scc_point = rnd.choice(extracted_subgraph.nodes()) #pick the random point from the SCC"
   ]
  },
  {
   "cell_type": "code",
   "execution_count": 161,
   "metadata": {
    "collapsed": false
   },
   "outputs": [
    {
     "name": "stdout",
     "output_type": "stream",
     "text": [
      "{65: 1, 36: 2, 40: 2, 134: 1, 72: 1, 81: 2, 52: 0, 21: 2, 23: 2, 117: 2, 95: 2}\n"
     ]
    }
   ],
   "source": [
    "#Find all nodes that are precisely 2 steps away from the randomly picked node\n",
    "two_step_away_nodes = nx.single_source_shortest_path_length(extracted_subgraph,random_scc_point,2)\n",
    "two_step_away_nodes\n",
    "\n",
    "exact_two_step_away_nodes = []\n",
    "\n",
    "for i,node in enumerate(two_step_away_nodes):\n",
    "    dist = two_step_away_nodes[node] #get distance\n",
    "    if(dist == 2):\n",
    "        exact_two_step_away_nodes.append(node)\n"
   ]
  },
  {
   "cell_type": "code",
   "execution_count": 165,
   "metadata": {
    "collapsed": false
   },
   "outputs": [],
   "source": [
    "pos = nx.random_layout(extracted_subgraph,scale=1)\n",
    "\n",
    "#draw the whole graph\n",
    "nx.draw(extracted_subgraph,pos,node_size=100, node_color='yellow')\n",
    "\n",
    "#draw one random node from the SCC\n",
    "nx.draw_networkx_nodes(extracted_subgraph,pos,\n",
    "                       nodelist=[random_scc_point],\n",
    "                       node_color='r',\n",
    "                       node_size=500,\n",
    "                   alpha=0.5)\n",
    "\n",
    "#draw nodes exact 2 step away from the random picked node\n",
    "nx.draw_networkx_nodes(extracted_subgraph,pos,\n",
    "                       nodelist= exact_two_step_away_nodes,\n",
    "                       node_color='blue',\n",
    "                       node_size=400,\n",
    "                   alpha=0.5)\n",
    "\n",
    "\n",
    "\n",
    "#nx.draw(EG,pos=nx.spring_layout(EG,scale=0.1)) # use spring layout\n",
    "plt.show()"
   ]
  },
  {
   "cell_type": "code",
   "execution_count": null,
   "metadata": {
    "collapsed": true
   },
   "outputs": [],
   "source": []
  },
  {
   "cell_type": "code",
   "execution_count": null,
   "metadata": {
    "collapsed": true
   },
   "outputs": [],
   "source": []
  }
 ],
 "metadata": {
  "anaconda-cloud": {},
  "kernelspec": {
   "display_name": "Python [Root]",
   "language": "python",
   "name": "Python [Root]"
  },
  "language_info": {
   "codemirror_mode": {
    "name": "ipython",
    "version": 2
   },
   "file_extension": ".py",
   "mimetype": "text/x-python",
   "name": "python",
   "nbconvert_exporter": "python",
   "pygments_lexer": "ipython2",
   "version": "2.7.12"
  }
 },
 "nbformat": 4,
 "nbformat_minor": 0
}
